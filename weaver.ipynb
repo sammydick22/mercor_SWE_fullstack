{
 "cells": [
  {
   "cell_type": "code",
   "execution_count": 1,
   "metadata": {},
   "outputs": [],
   "source": [
    "import weaviate\n",
    "from weaviate.classes.init import Auth\n",
    "import requests, json, os\n",
    "\n",
    "# Best practice: store your credentials in environment variables\n",
    "wcd_url = \"https://p6ce0pj5rbib30et8ie7ug.c0.us-west3.gcp.weaviate.cloud\"\n",
    "wcd_api_key = \"HSJEaIn0nUSl3ZOEHmaXd68KryjWAR8CX8vy\"\n",
    "\n",
    "client = weaviate.connect_to_weaviate_cloud(\n",
    "    cluster_url=wcd_url,\n",
    "    auth_credentials=Auth.api_key(wcd_api_key),\n",
    "    headers={\n",
    "        \"X-OpenAI-Api-Key\": os.getenv(\"OPENAI_API_KEY\")\n",
    "    }\n",
    ")\n",
    "\n"
   ]
  },
  {
   "cell_type": "code",
   "execution_count": 12,
   "metadata": {},
   "outputs": [],
   "source": [
    "from weaviate.classes.config import Configure\n",
    "\n",
    "candidates = client.collections.create(\n",
    "    name=\"Candidates\",\n",
    "    vectorizer_config=Configure.Vectorizer.text2vec_openai(), # Configure the Weaviate Embeddings integration\n",
    "    generative_config=Configure.Generative.openai()        # Configure the Cohere generative AI integration\n",
    ")"
   ]
  },
  {
   "cell_type": "code",
   "execution_count": 13,
   "metadata": {},
   "outputs": [
    {
     "name": "stdout",
     "output_type": "stream",
     "text": [
      "Import complete!\n",
      "Successfully imported: 930 candidates\n",
      "Skipped due to empty names: 45\n",
      "Skipped due to missing contact info: 0\n"
     ]
    }
   ],
   "source": [
    "with open(\"form-submissions.json\", \"r\", encoding=\"utf-8\") as f:\n",
    "    data = json.load(f)\n",
    "    \n",
    "\n",
    "successful_imports = 0\n",
    "skipped_empty_names = 0\n",
    "skipped_no_contact = 0\n",
    "\n",
    "with candidates.batch.dynamic() as batch:\n",
    "    for d in data:\n",
    "        # VALIDATION 1: Name is required\n",
    "        if not d.get(\"name\"):\n",
    "            skipped_empty_names += 1\n",
    "            continue\n",
    "            \n",
    "        # VALIDATION 2: Either phone OR email is required\n",
    "        if not d.get(\"phone\") and not d.get(\"email\"):\n",
    "            skipped_no_contact += 1\n",
    "            continue\n",
    "        \n",
    "        # Extract primary work experience (most recent/first in list)\n",
    "        primary_work_experience = d.get(\"work_experiences\", [])[0] if d.get(\"work_experiences\") else {}\n",
    "        \n",
    "        # Extract highest education degree\n",
    "        degrees = d.get(\"education\", {}).get(\"degrees\", [])\n",
    "        primary_degree = degrees[0] if degrees else {}\n",
    "        \n",
    "        # Prepare full_time salary expectation\n",
    "        salary_expectation = d.get(\"annual_salary_expectation\", {}).get(\"full-time\", \"\")\n",
    "        \n",
    "        # Format skills as a comma-separated string for searchability\n",
    "        skills_string = \", \".join(d.get(\"skills\", []))\n",
    "        \n",
    "        # Check if a candidate attended a top school (either top 25 or top 50)\n",
    "        is_top_school = any((degree.get(\"isTop50\", False) or degree.get(\"isTop25\", False)) for degree in degrees)\n",
    "        \n",
    "        # Add the object to the batch\n",
    "        batch.add_object({\n",
    "            \"name\": d.get(\"name\", \"\"),\n",
    "            \"email\": d.get(\"email\", \"\"),\n",
    "            \"phone\": d.get(\"phone\", \"\"),\n",
    "            \"location\": d.get(\"location\", \"\"),\n",
    "            \"submitted_at\": d.get(\"submitted_at\", \"\"),\n",
    "            \"work_availability\": d.get(\"work_availability\", []),\n",
    "            \"salary_expectation\": salary_expectation,\n",
    "            \"work_experiences\": d.get(\"work_experiences\", []),\n",
    "            \"current_company\": primary_work_experience.get(\"company\", \"\"),\n",
    "            \"current_role\": primary_work_experience.get(\"roleName\", \"\"),\n",
    "            \"education_highest_level\": d.get(\"education\", {}).get(\"highest_level\", \"\"),\n",
    "            \"education_degrees\": degrees,\n",
    "            \"primary_degree_subject\": primary_degree.get(\"subject\", \"\"),\n",
    "            \"primary_degree_school\": primary_degree.get(\"originalSchool\", \"\"),\n",
    "            \"skills\": d.get(\"skills\", []),\n",
    "            \"skills_text\": skills_string,\n",
    "            \"is_top_school\": is_top_school\n",
    "        })\n",
    "        successful_imports += 1\n",
    "\n",
    "# Print summary\n",
    "print(f\"Import complete!\")\n",
    "print(f\"Successfully imported: {successful_imports} candidates\")\n",
    "print(f\"Skipped due to empty names: {skipped_empty_names}\")\n",
    "print(f\"Skipped due to missing contact info: {skipped_no_contact}\")\n",
    "\n",
    "failed_objects = candidates.batch.failed_objects\n",
    "if failed_objects:\n",
    "    print(f\"Number of failed imports: {len(failed_objects)}\")\n",
    "    print(f\"First failed object: {failed_objects[0]}\")"
   ]
  }
 ],
 "metadata": {
  "kernelspec": {
   "display_name": "venv",
   "language": "python",
   "name": "python3"
  },
  "language_info": {
   "codemirror_mode": {
    "name": "ipython",
    "version": 3
   },
   "file_extension": ".py",
   "mimetype": "text/x-python",
   "name": "python",
   "nbconvert_exporter": "python",
   "pygments_lexer": "ipython3",
   "version": "3.12.4"
  }
 },
 "nbformat": 4,
 "nbformat_minor": 2
}
